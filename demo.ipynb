{
 "cells": [
  {
   "cell_type": "markdown",
   "id": "ad65024b-b5eb-47b8-b1b4-60963d60efbf",
   "metadata": {},
   "source": [
    "# --- Introduction ---\n",
    "# This notebook demonstrates the usage of the MnistClassifier class\n",
    "# For more information please check `Readme.md`"
   ]
  },
  {
   "cell_type": "code",
   "execution_count": 1,
   "id": "ecadc402-81f4-41a1-826b-8957696f66f9",
   "metadata": {},
   "outputs": [],
   "source": [
    "# --- Imports\n",
    "import tensorflow as tf\n",
    "import numpy as np\n",
    "from sklearn.metrics import accuracy_score\n",
    "from mnist_classifier import MnistClassifier\n",
    "import matplotlib.pyplot as plt"
   ]
  },
  {
   "cell_type": "code",
   "execution_count": 2,
   "id": "9476fab2-951a-44e7-8635-003b1df1f473",
   "metadata": {},
   "outputs": [],
   "source": [
    "(X_train, y_train), (X_test, y_test) = tf.keras.datasets.mnist.load_data()\n",
    "X_train = X_train.astype('float32') / 255.0\n",
    "X_test = X_test.astype('float32') / 255.0"
   ]
  },
  {
   "cell_type": "code",
   "execution_count": 3,
   "id": "76063f70-822f-4574-975b-391c83856b3f",
   "metadata": {},
   "outputs": [
    {
     "name": "stdout",
     "output_type": "stream",
     "text": [
      "\n",
      "### Training and Evaluating RF Model ###\n",
      "Training RF model...\n",
      "Making predictions with RF model...\n",
      "RF Model Accuracy: 0.9704\n",
      "\n",
      "### Training and Evaluating NN Model ###\n",
      "Training NN model...\n"
     ]
    },
    {
     "name": "stderr",
     "output_type": "stream",
     "text": [
      "C:\\Users\\Hennadii\\PycharmProjects\\MNIST_test\\.venv11\\Lib\\site-packages\\keras\\src\\layers\\reshaping\\flatten.py:37: UserWarning: Do not pass an `input_shape`/`input_dim` argument to a layer. When using Sequential models, prefer using an `Input(shape)` object as the first layer in the model instead.\n",
      "  super().__init__(**kwargs)\n"
     ]
    },
    {
     "ename": "ValueError",
     "evalue": "Invalid epochs value: None. Epochs must be a positive integer.",
     "output_type": "error",
     "traceback": [
      "\u001b[1;31m---------------------------------------------------------------------------\u001b[0m",
      "\u001b[1;31mValueError\u001b[0m                                Traceback (most recent call last)",
      "Cell \u001b[1;32mIn[3], line 11\u001b[0m\n\u001b[0;32m      8\u001b[0m epochs_value \u001b[38;5;241m=\u001b[39m epochs_settings[algorithm]\n\u001b[0;32m     10\u001b[0m \u001b[38;5;28mprint\u001b[39m(\u001b[38;5;124mf\u001b[39m\u001b[38;5;124m\"\u001b[39m\u001b[38;5;124mTraining \u001b[39m\u001b[38;5;132;01m{\u001b[39;00malgorithm\u001b[38;5;241m.\u001b[39mupper()\u001b[38;5;132;01m}\u001b[39;00m\u001b[38;5;124m model...\u001b[39m\u001b[38;5;124m\"\u001b[39m)\n\u001b[1;32m---> 11\u001b[0m history \u001b[38;5;241m=\u001b[39m \u001b[43mmnist_classifier\u001b[49m\u001b[38;5;241;43m.\u001b[39;49m\u001b[43mtrain\u001b[49m\u001b[43m(\u001b[49m\u001b[43mX_train\u001b[49m\u001b[43m,\u001b[49m\u001b[43m \u001b[49m\u001b[43my_train\u001b[49m\u001b[43m,\u001b[49m\u001b[43m \u001b[49m\u001b[43mepochs\u001b[49m\u001b[38;5;241;43m=\u001b[39;49m\u001b[43mepochs_value\u001b[49m\u001b[43m)\u001b[49m \u001b[38;5;66;03m# Capture history\u001b[39;00m\n\u001b[0;32m     13\u001b[0m \u001b[38;5;28mprint\u001b[39m(\u001b[38;5;124mf\u001b[39m\u001b[38;5;124m\"\u001b[39m\u001b[38;5;124mMaking predictions with \u001b[39m\u001b[38;5;132;01m{\u001b[39;00malgorithm\u001b[38;5;241m.\u001b[39mupper()\u001b[38;5;132;01m}\u001b[39;00m\u001b[38;5;124m model...\u001b[39m\u001b[38;5;124m\"\u001b[39m)\n\u001b[0;32m     14\u001b[0m predictions \u001b[38;5;241m=\u001b[39m mnist_classifier\u001b[38;5;241m.\u001b[39mpredict(X_test)\n",
      "File \u001b[1;32m~\\PycharmProjects\\MNIST_test\\mnist_classifier.py:152\u001b[0m, in \u001b[0;36mMnistClassifier.train\u001b[1;34m(self, X_train, y_train, epochs)\u001b[0m\n\u001b[0;32m    147\u001b[0m \u001b[38;5;28;01mdef\u001b[39;00m\u001b[38;5;250m \u001b[39m\u001b[38;5;21mtrain\u001b[39m(\u001b[38;5;28mself\u001b[39m, X_train, y_train, epochs\u001b[38;5;241m=\u001b[39m\u001b[38;5;28;01mNone\u001b[39;00m):\n\u001b[0;32m    148\u001b[0m \u001b[38;5;250m    \u001b[39m\u001b[38;5;124;03m\"\"\"\u001b[39;00m\n\u001b[0;32m    149\u001b[0m \u001b[38;5;124;03m    Trains the selected classifier model.\u001b[39;00m\n\u001b[0;32m    150\u001b[0m \u001b[38;5;124;03m    Delegates the training to the underlying concrete model.\u001b[39;00m\n\u001b[0;32m    151\u001b[0m \u001b[38;5;124;03m    \"\"\"\u001b[39;00m\n\u001b[1;32m--> 152\u001b[0m     history \u001b[38;5;241m=\u001b[39m \u001b[38;5;28;43mself\u001b[39;49m\u001b[38;5;241;43m.\u001b[39;49m\u001b[43m_model\u001b[49m\u001b[38;5;241;43m.\u001b[39;49m\u001b[43mtrain\u001b[49m\u001b[43m(\u001b[49m\u001b[43mX_train\u001b[49m\u001b[43m,\u001b[49m\u001b[43m \u001b[49m\u001b[43my_train\u001b[49m\u001b[43m,\u001b[49m\u001b[43m \u001b[49m\u001b[43mepochs\u001b[49m\u001b[43m)\u001b[49m\n\u001b[0;32m    153\u001b[0m     \u001b[38;5;28;01mreturn\u001b[39;00m history\n",
      "File \u001b[1;32m~\\PycharmProjects\\MNIST_test\\mnist_classifier.py:79\u001b[0m, in \u001b[0;36mNeuralNetworkMnistClassifier.train\u001b[1;34m(self, X_train, y_train, epochs)\u001b[0m\n\u001b[0;32m     76\u001b[0m \u001b[38;5;28;01mdef\u001b[39;00m\u001b[38;5;250m \u001b[39m\u001b[38;5;21mtrain\u001b[39m(\u001b[38;5;28mself\u001b[39m, X_train, y_train, epochs\u001b[38;5;241m=\u001b[39m\u001b[38;5;241m10\u001b[39m):\n\u001b[0;32m     78\u001b[0m     \u001b[38;5;28;01mif\u001b[39;00m \u001b[38;5;129;01mnot\u001b[39;00m \u001b[38;5;28misinstance\u001b[39m(epochs, \u001b[38;5;28mint\u001b[39m) \u001b[38;5;129;01mor\u001b[39;00m epochs \u001b[38;5;241m<\u001b[39m\u001b[38;5;241m=\u001b[39m \u001b[38;5;241m0\u001b[39m:  \u001b[38;5;66;03m# Combined type and positivity check\u001b[39;00m\n\u001b[1;32m---> 79\u001b[0m         \u001b[38;5;28;01mraise\u001b[39;00m \u001b[38;5;167;01mValueError\u001b[39;00m(\u001b[38;5;124mf\u001b[39m\u001b[38;5;124m\"\u001b[39m\u001b[38;5;124mInvalid epochs value: \u001b[39m\u001b[38;5;132;01m{\u001b[39;00mepochs\u001b[38;5;132;01m}\u001b[39;00m\u001b[38;5;124m. \u001b[39m\u001b[38;5;124m\"\u001b[39m\n\u001b[0;32m     80\u001b[0m                          \u001b[38;5;124m\"\u001b[39m\u001b[38;5;124mEpochs must be a positive integer.\u001b[39m\u001b[38;5;124m\"\u001b[39m)\n\u001b[0;32m     82\u001b[0m     history \u001b[38;5;241m=\u001b[39m \u001b[38;5;28mself\u001b[39m\u001b[38;5;241m.\u001b[39mmodel\u001b[38;5;241m.\u001b[39mfit(X_train, y_train, epochs\u001b[38;5;241m=\u001b[39mepochs, verbose\u001b[38;5;241m=\u001b[39m\u001b[38;5;241m0\u001b[39m)\n\u001b[0;32m     83\u001b[0m     \u001b[38;5;28;01mreturn\u001b[39;00m history\n",
      "\u001b[1;31mValueError\u001b[0m: Invalid epochs value: None. Epochs must be a positive integer."
     ]
    }
   ],
   "source": [
    "# --- Algorithm Loop ---\n",
    "algorithms = ['rf', 'nn', 'cnn']\n",
    "epochs_settings = {'rf': 2, 'nn': None, 'cnn': 2} # Let's use more epochs for better visualization\n",
    "\n",
    "for algorithm in algorithms:\n",
    "    print(f\"\\n### Training and Evaluating {algorithm.upper()} Model ###\")\n",
    "    mnist_classifier = MnistClassifier(algorithm=algorithm)\n",
    "    epochs_value = epochs_settings[algorithm]\n",
    "\n",
    "    print(f\"Training {algorithm.upper()} model...\")\n",
    "    history = mnist_classifier.train(X_train, y_train, epochs=epochs_value) # Capture history\n",
    "\n",
    "    print(f\"Making predictions with {algorithm.upper()} model...\")\n",
    "    predictions = mnist_classifier.predict(X_test)\n",
    "    accuracy = accuracy_score(y_test, predictions)\n",
    "\n",
    "    print(f\"{algorithm.upper()} Model Accuracy: {accuracy:.4f}\")\n",
    "    if epochs_value is not None and algorithm != 'rf': # Indicate epochs for NN/CNN\n",
    "        print(f\"(Trained for {epochs_value} epochs)\")\n",
    "\n",
    "        # Plotting Loss and Accuracy (for NN and CNN only)\n",
    "        if history is not None: # Check if history is available (it will be for NN/CNN)\n",
    "            plt.figure(figsize=(10, 4)) # Adjust figure size as needed\n",
    "\n",
    "            # Plot Loss\n",
    "            plt.subplot(1, 2, 1) # 1 row, 2 columns, first subplot\n",
    "            plt.plot(history.history['loss'])\n",
    "            plt.title(f'{algorithm.upper()} Model Loss')\n",
    "            plt.xlabel('Epochs')\n",
    "            plt.ylabel('Loss')\n",
    "\n",
    "            # Plot Accuracy (if accuracy is in history - it usually is)\n",
    "            if 'accuracy' in history.history: # 'accuracy' for tf>=2, 'acc' for older versions\n",
    "                plt_accuracy_metric = 'accuracy' if 'accuracy' in history.history else 'acc'\n",
    "                plt.subplot(1, 2, 2) # 1 row, 2 columns, second subplot\n",
    "                plt.plot(history.history[plt_accuracy_metric])\n",
    "                plt.title(f'{algorithm.upper()} Model Accuracy')\n",
    "                plt.xlabel('Epochs')\n",
    "                plt.ylabel('Accuracy')\n",
    "\n",
    "            plt.tight_layout() # Adjust layout to prevent overlapping titles/labels\n",
    "            plt.show() # Display the plot"
   ]
  },
  {
   "cell_type": "markdown",
   "id": "567e0fce-1ddf-46fe-84a6-849824b6b27d",
   "metadata": {},
   "source": [
    "# --- Conclusion ---\n",
    "# Naturally: RF < NN < CNN \n",
    "# CNN "
   ]
  }
 ],
 "metadata": {
  "kernelspec": {
   "display_name": "Python 3 (ipykernel)",
   "language": "python",
   "name": "python3"
  },
  "language_info": {
   "codemirror_mode": {
    "name": "ipython",
    "version": 3
   },
   "file_extension": ".py",
   "mimetype": "text/x-python",
   "name": "python",
   "nbconvert_exporter": "python",
   "pygments_lexer": "ipython3",
   "version": "3.11.9"
  }
 },
 "nbformat": 4,
 "nbformat_minor": 5
}
