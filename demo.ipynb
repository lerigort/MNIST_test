# --- Introduction ---
# This notebook demonstrates the usage of the MnistClassifier class

# --- Imports ---
import tensorflow as tf
import numpy as np
from sklearn.metrics import accuracy_score
from mnist_classifier import MnistClassifier  # Assuming your class is in mnist_classifier.py

# --- Load MNIST Data ---
(X_train, y_train), (X_test, y_test) = tf.keras.datasets.mnist.load_data()
X_train = X_train.astype('float32') / 255.0
X_test = X_test.astype('float32') / 255.0

# --- Algorithm Loop ---
algorithms = ['rf', 'nn', 'cnn']
for algorithm in algorithms:
    print(f"\n### Training and Evaluating {algorithm.upper()} Model ###")
    mnist_classifier = MnistClassifier(algorithm=algorithm)

    mnist_classifier.train(X_train, y_train)
    predictions = mnist_classifier.predict(X_test)
    accuracy = accuracy_score(y_test, predictions)

    print(f"{algorithm.upper()} Model Accuracy: {accuracy:.4f}")

# --- Conclusion ---
# Briefly compare accuracies, maybe comment on model complexity etc.